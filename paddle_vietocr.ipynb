{
 "cells": [
  {
   "cell_type": "code",
   "execution_count": null,
   "metadata": {},
   "outputs": [],
   "source": [
    "import os\n",
    "import cv2\n",
    "import matplotlib.pyplot as plt\n",
    "from PIL import Image\n",
    "from vietocr.tool.predictor import Predictor\n",
    "from vietocr.tool.config import Cfg\n",
    "from paddleocr import PaddleOCR, draw_ocr"
   ]
  },
  {
   "cell_type": "code",
   "execution_count": null,
   "metadata": {},
   "outputs": [],
   "source": [
    "FONT = \"C:\\\\Users\\\\ADMIN\\\\Desktop\\\\Slide_School\\\\SlideKy7\\\\PBL6\\\\Preparation\\\\latin.ttf\""
   ]
  },
  {
   "cell_type": "code",
   "execution_count": null,
   "metadata": {},
   "outputs": [],
   "source": [
    "detector = PaddleOCR(use_angle_cls = False, lang = \"vi\", use_gpu = False)"
   ]
  },
  {
   "cell_type": "code",
   "execution_count": null,
   "metadata": {},
   "outputs": [],
   "source": [
    "config = Cfg.load_config_from_name('vgg_transformer')\n",
    "config['cnn']['pretrained'] = True\n",
    "config['predictor']['beamsearch'] = True\n",
    "config['device'] = 'cpu' # mps\n",
    "\n",
    "recognitor = Predictor(config)"
   ]
  },
  {
   "cell_type": "code",
   "execution_count": null,
   "metadata": {},
   "outputs": [],
   "source": [
    "def predict(recognitor, detector, img_path, save_path, padding=4, dpi=100):\n",
    "    img = cv2.imread(img_path)\n",
    "    result = detector.ocr(img_path, cls=False, det=True, rec=False)\n",
    "    result = result[:][:][0]\n",
    "\n",
    "    boxes = []\n",
    "    for line in result:\n",
    "        boxes.append([[int(line[0][0]), int(line[0][1])], [int(line[2][0]), int(line[2][1])]])\n",
    "    boxes = boxes[::-1]\n",
    "\n",
    "    padding = 4\n",
    "    for box in boxes:\n",
    "        box[0][0] = box[0][0] - padding\n",
    "        box[0][1] = box[0][1] - padding\n",
    "        box[1][0] = box[1][0] + padding\n",
    "        box[1][1] = box[1][1] + padding\n",
    "\n",
    "    texts = []\n",
    "    for box in boxes:\n",
    "        cropped_image = img[box[0][1]:box[1][1], box[0][0]:box[1][0]]\n",
    "        try:\n",
    "            cropped_image = Image.fromarray(cropped_image)\n",
    "        except:\n",
    "            continue\n",
    "        rec_result = recognitor.predict(cropped_image)\n",
    "        text = rec_result\n",
    "        texts.append(text)\n",
    "\n",
    "    def get_rectangle_points(x1, y1, x2, y2):\n",
    "        x_tl = x1\n",
    "        y_tl = y2\n",
    "        x_br = x2\n",
    "        y_br = y1\n",
    "        return [(x1, y1), (x2, y1), (x2, y2), (x1, y2)]\n",
    "    _boxes = [get_rectangle_points(boxe[0][0], boxe[0][1], boxe[1][0], boxe[1][1]) for boxe in boxes]\n",
    "\n",
    "    #img = draw_ocr(img, _boxes)\n",
    "    img = draw_ocr(img, _boxes, texts, scores=None, font_path=FONT)\n",
    "    img_name = img_path.split('/')[-1]\n",
    "    cv2.imwrite(os.path.join(save_path, img_name), img)\n",
    "    img = cv2.cvtColor(img, cv2.COLOR_RGB2BGR)\n",
    "    height, width, depth = img.shape\n",
    "    figsize = width / float(dpi), height / float(dpi)\n",
    "    fig = plt.figure(figsize=figsize)\n",
    "    ax = fig.add_axes([0, 0, 1, 1])\n",
    "    ax.axis('off')\n",
    "    ax.imshow(img, cmap='gray')\n",
    "\n",
    "    plt.show()\n",
    "    return boxes, texts"
   ]
  },
  {
   "cell_type": "code",
   "execution_count": null,
   "metadata": {},
   "outputs": [],
   "source": [
    "input_path = './images/image4.jpg'\n",
    "output_path = './output'\n",
    "# Predict\n",
    "boxes, texts = predict(recognitor, detector, input_path, output_path, padding=2, dpi=100)"
   ]
  },
  {
   "cell_type": "code",
   "execution_count": null,
   "metadata": {},
   "outputs": [],
   "source": [
    "texts"
   ]
  },
  {
   "cell_type": "code",
   "execution_count": 2,
   "metadata": {},
   "outputs": [],
   "source": [
    "class_colors = {\n",
    "    \"current_places\": (255,0,0),\n",
    "    \"dob\": (0,255,0),\n",
    "    \"expire_date\": (0,0,255),\n",
    "    \"gender\": (255,255,0),\n",
    "    \"id\": (255,0,255),\n",
    "    \"name\":(0,255,255),\n",
    "    \"nationality\": (255, 128, 0),\n",
    "    \"origin_place\": (0,0,0)\n",
    "}"
   ]
  },
  {
   "cell_type": "code",
   "execution_count": null,
   "metadata": {},
   "outputs": [],
   "source": [
    "def predict(recognitor, detector, input_path, padding = 2, dpi=100):\n",
    "    img = cv2.cvtColor(cv2.imread(input_path), cv2.COLOR_BGR2RGB)\n",
    "    detect = detector(img)\n",
    "    class_indexes = detect[0].boxes.cls.numpy()\n",
    "    class_names = [detector.names[int(class_index)] for class_index in class_indexes]\n",
    "    boxes = detect[0].boxes.xyxy.numpy()\n",
    "    \n",
    "    result_dict = {name: [] for name in detector.names.value()}\n",
    "    for i, box in enumerate(boxes):\n",
    "        box[0] = box[0] - padding\n",
    "        box[1] = box[1] - padding\n",
    "        box[2] = box[2] + padding\n",
    "        box[3] = box[3] + padding   \n",
    "        x1, y1, x2, y2 = box\n",
    "        crop_img = img[int(y1):int(y2), int(x1):int(x2)]\n",
    "        crop_img_rgb = Image.fromarray(crop_img)\n",
    "        color = class_colors.get(class_names[i], (255,255,255))\n",
    "        text = recognitor.predict(crop_img_rgb)\n",
    "        img = cv2.rectangle(img, (int(x1), int(y1)), (int(x2), int(y2)), color = color, thickness=2)\n",
    "        result_dict[class_names[i]].append(text)\n",
    "        \n",
    "    order_texts = [\n",
    "        \", \".join(result_dict[detector.names[i]]) for i in sorted(detector.names)\n",
    "    ]\n",
    "    \n",
    "    plt.figure(figsize=(6,6), dpi=dpi)\n",
    "    plt.imshow(img)\n",
    "    print(f\"result are: {order_texts}\")\n",
    "    return boxes, order_texts"
   ]
  },
  {
   "cell_type": "code",
   "execution_count": null,
   "metadata": {},
   "outputs": [],
   "source": []
  }
 ],
 "metadata": {
  "kernelspec": {
   "display_name": "Python 3",
   "language": "python",
   "name": "python3"
  },
  "language_info": {
   "codemirror_mode": {
    "name": "ipython",
    "version": 3
   },
   "file_extension": ".py",
   "mimetype": "text/x-python",
   "name": "python",
   "nbconvert_exporter": "python",
   "pygments_lexer": "ipython3",
   "version": "3.11.5"
  }
 },
 "nbformat": 4,
 "nbformat_minor": 2
}
