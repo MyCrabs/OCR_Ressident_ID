{
 "cells": [
  {
   "cell_type": "code",
   "execution_count": 12,
   "metadata": {},
   "outputs": [],
   "source": [
    "from vietocr.tool.config import Cfg\n",
    "from vietocr.model.trainer import Trainer\n",
    "from vietocr.tool.predictor import Predictor\n",
    "import matplotlib.pyplot as plt\n",
    "from PIL import Image"
   ]
  },
  {
   "cell_type": "code",
   "execution_count": 7,
   "metadata": {},
   "outputs": [],
   "source": [
    "config = Cfg.load_config_from_name(\"vgg_seq2seq\")"
   ]
  },
  {
   "cell_type": "code",
   "execution_count": null,
   "metadata": {},
   "outputs": [],
   "source": [
    "dataset_params = {\n",
    "    \"name\":\"name_dtset\",\n",
    "    \"dataroot\" : \"C:\\Data...\",\n",
    "    \"train_annotation\" : \"label.txt\",\n",
    "    \"valid_annotation\": \"label2.txt\"\n",
    "}\n",
    "params = {\n",
    "    \"print_every\" : 200,\n",
    "    \"valid_every\" : 15*200,\n",
    "    \"iters\":20000,\n",
    "    \"checkpoint\":\"./checkpoint/seq2seqocr_checkpoint.pth\",\n",
    "    \"export\":\"./weigths/seq2seqocr.pth\",\n",
    "    \"metrics\":10000\n",
    "}\n",
    "config[\"trainer\"].update(params)\n",
    "config[\"dataset\"].update(dataset_params)\n",
    "config[\"device\"] = \"cuda:0\"\n",
    "config[\"dataloader\"][\"num_workers\"] = 0\n",
    "\n",
    "trainer = Trainer(config, pretrained=True)\n",
    "trainer.train()"
   ]
  },
  {
   "cell_type": "markdown",
   "metadata": {},
   "source": [
    "## `Inference`"
   ]
  },
  {
   "cell_type": "code",
   "execution_count": null,
   "metadata": {},
   "outputs": [],
   "source": [
    "config = Cfg.load_config_from_name(\"vgg_transformer\")\n",
    "config[\"weights\"] = \"./seq2seqocr.pth\"\n",
    "config[\"cnn\"][\"pretrained\"] = False\n",
    "config[\"device\"] = \"cpu\"\n",
    "detector = Predictor(config)"
   ]
  }
 ],
 "metadata": {
  "kernelspec": {
   "display_name": "Python 3",
   "language": "python",
   "name": "python3"
  },
  "language_info": {
   "codemirror_mode": {
    "name": "ipython",
    "version": 3
   },
   "file_extension": ".py",
   "mimetype": "text/x-python",
   "name": "python",
   "nbconvert_exporter": "python",
   "pygments_lexer": "ipython3",
   "version": "3.11.5"
  }
 },
 "nbformat": 4,
 "nbformat_minor": 2
}
